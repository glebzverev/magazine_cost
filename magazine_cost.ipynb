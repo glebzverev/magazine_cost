{
  "nbformat": 4,
  "nbformat_minor": 0,
  "metadata": {
    "colab": {
      "name": "magazine_dist.ipynb",
      "provenance": [],
      "collapsed_sections": []
    },
    "kernelspec": {
      "name": "python3",
      "display_name": "Python 3"
    },
    "language_info": {
      "name": "python"
    }
  },
  "cells": [
    {
      "cell_type": "markdown",
      "metadata": {
        "id": "Kh8SJUm6WhN9"
      },
      "source": [
        "#GeocodeAPI предоставляет 10 000 бесплатных запросов в день\n"
      ]
    },
    {
      "cell_type": "code",
      "metadata": {
        "colab": {
          "base_uri": "https://localhost:8080/",
          "height": 111
        },
        "id": "EFwf9OsEWg0r",
        "outputId": "9660901e-57cb-4227-8f28-adec6fa8ae0b"
      },
      "source": [
        "from geopandas.tools import geocode \n",
        "loc = ['Москва, 1-я улица Машиностроения, 10','Москва, Шарикоподшипниковская улица, 36/18']\n",
        "location = geocode(loc, provider=\"nominatim\" , user_agent = 'my_request') \n",
        "point = location['geometry']\n",
        "location"
      ],
      "execution_count": 93,
      "outputs": [
        {
          "output_type": "execute_result",
          "data": {
            "text/html": [
              "<div>\n",
              "<style scoped>\n",
              "    .dataframe tbody tr th:only-of-type {\n",
              "        vertical-align: middle;\n",
              "    }\n",
              "\n",
              "    .dataframe tbody tr th {\n",
              "        vertical-align: top;\n",
              "    }\n",
              "\n",
              "    .dataframe thead th {\n",
              "        text-align: right;\n",
              "    }\n",
              "</style>\n",
              "<table border=\"1\" class=\"dataframe\">\n",
              "  <thead>\n",
              "    <tr style=\"text-align: right;\">\n",
              "      <th></th>\n",
              "      <th>geometry</th>\n",
              "      <th>address</th>\n",
              "    </tr>\n",
              "  </thead>\n",
              "  <tbody>\n",
              "    <tr>\n",
              "      <th>0</th>\n",
              "      <td>POINT (37.67263 55.71367)</td>\n",
              "      <td>Чумодан, 10, 1-я улица Машиностроения, Кожухов...</td>\n",
              "    </tr>\n",
              "    <tr>\n",
              "      <th>1</th>\n",
              "      <td>POINT (37.67550 55.71480)</td>\n",
              "      <td>36/18, Шарикоподшипниковская улица, Кожухово, ...</td>\n",
              "    </tr>\n",
              "  </tbody>\n",
              "</table>\n",
              "</div>"
            ],
            "text/plain": [
              "                    geometry                                            address\n",
              "0  POINT (37.67263 55.71367)  Чумодан, 10, 1-я улица Машиностроения, Кожухов...\n",
              "1  POINT (37.67550 55.71480)  36/18, Шарикоподшипниковская улица, Кожухово, ..."
            ]
          },
          "metadata": {},
          "execution_count": 93
        }
      ]
    },
    {
      "cell_type": "markdown",
      "metadata": {
        "id": "nQjsE2mQXIDi"
      },
      "source": [
        "# Считаем расстояние от исходного до пункта назначения"
      ]
    },
    {
      "cell_type": "code",
      "metadata": {
        "id": "w7Jzr5cVRrE_"
      },
      "source": [
        "def distance (A,B):\n",
        "    const = 111111\n",
        "    return((A.x-B.x)**2+(A.y-B.y)**2)**0.5*const"
      ],
      "execution_count": 89,
      "outputs": []
    },
    {
      "cell_type": "code",
      "metadata": {
        "colab": {
          "base_uri": "https://localhost:8080/"
        },
        "id": "KOU7hboCNZ17",
        "outputId": "9183e377-5761-4220-fb0a-2831cdf3e046"
      },
      "source": [
        "A,B = point[0], point[1]\n",
        "print(distance(A,B), 'meters')"
      ],
      "execution_count": 90,
      "outputs": [
        {
          "output_type": "stream",
          "name": "stdout",
          "text": [
            "342.34616321863706 meters\n"
          ]
        }
      ]
    },
    {
      "cell_type": "markdown",
      "metadata": {
        "id": "RwhQ_q3bXUVb"
      },
      "source": [
        "#Рассчитываем цену"
      ]
    },
    {
      "cell_type": "code",
      "metadata": {
        "id": "GuRh3fSFPVPr"
      },
      "source": [
        "def cost(meters):\n",
        "    return 240+meters/100"
      ],
      "execution_count": 94,
      "outputs": []
    },
    {
      "cell_type": "code",
      "metadata": {
        "colab": {
          "base_uri": "https://localhost:8080/"
        },
        "id": "pchv5JPmVmy7",
        "outputId": "55c8de7e-5a60-4ef1-ac7d-5eca3939c982"
      },
      "source": [
        "cost(distance(A,B))"
      ],
      "execution_count": 95,
      "outputs": [
        {
          "output_type": "execute_result",
          "data": {
            "text/plain": [
              "243.42346163218636"
            ]
          },
          "metadata": {},
          "execution_count": 95
        }
      ]
    }
  ]
}